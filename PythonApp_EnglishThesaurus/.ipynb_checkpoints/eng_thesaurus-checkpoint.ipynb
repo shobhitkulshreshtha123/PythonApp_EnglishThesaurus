{
 "cells": [
  {
   "cell_type": "code",
   "execution_count": 1,
   "metadata": {},
   "outputs": [
    {
     "name": "stdout",
     "output_type": "stream",
     "text": [
      "Please enter a word: grain\n",
      "\n",
      "We have grain in our repository. Grain has 1 definations:\n",
      " -- Edible, starchy seeds of the grass family (Graminae) usable as food by man and his livestock.\n",
      "Press 'Y' To Find Another Word Or 'N' To Quity\n",
      "Please enter a word: gine\n",
      "\n",
      "I dont have exact word match. Following are some of the similar matches: \n",
      " -- tagine\n",
      " -- ginger\n",
      " -- wine\n",
      "\n",
      "Please enter a word: pine\n",
      "\n",
      "We have pine in our repository. Pine has 2 definations:\n",
      " -- Evergreen coniferous tree of the genus Pinus.\n",
      " -- Wood of the pine tree.\n",
      "Press 'Y' To Find Another Word Or 'N' To Quitn\n",
      "\n",
      "Quitting The Program\n"
     ]
    }
   ],
   "source": [
    "import json\n",
    "import difflib\n",
    "\n",
    "my_data_file= json.load(open(\"data.json\"))                                    # Loading data from json\n",
    "\n",
    "while True:                                                                   # Iterative loop till user wants to continue\n",
    "    user_input= input(\"Please enter a word: \")\n",
    "    print()\n",
    "\n",
    "    if user_input.lower() in my_data_file.keys():                             # If the word is found\n",
    "        print(f\"Found {user_input}. {user_input.title()} has {len(my_data_file[user_input])} definations:\")\n",
    "        for defination in my_data_file[user_input]:\n",
    "            print(f\" -- {defination}\")\n",
    "\n",
    "        yn_choice= input(\"press 'y' to find another word or 'n' to quit\".title())  # Option for user to continue/ quit\n",
    "        \n",
    "        if yn_choice in \"nN\":                                                      \n",
    "            print()\n",
    "            print(\"Quitting the Program\".title())\n",
    "            break\n",
    "        \n",
    "        else:\n",
    "            continue\n",
    "        \n",
    "    else:                                                                          # If user doesnt want to continue\n",
    "        similar_words= difflib.get_close_matches(word= user_input.lower(), possibilities= list(my_data_file.keys()), n= 3)\n",
    "        if len(similar_words)> 1:\n",
    "            print(\"I dont have exact word match. Following are some of the similar matches: \")\n",
    "            for i in range(len(similar_words)):\n",
    "                print(\" --\", similar_words[i])\n",
    "            print()\n",
    "                \n",
    "        else:\n",
    "            print(\"Sorry. I could not find a word of your match and neither could I find a similar word\".title()) "
   ]
  }
 ],
 "metadata": {
  "kernelspec": {
   "display_name": "Python 3",
   "language": "python",
   "name": "python3"
  },
  "language_info": {
   "codemirror_mode": {
    "name": "ipython",
    "version": 3
   },
   "file_extension": ".py",
   "mimetype": "text/x-python",
   "name": "python",
   "nbconvert_exporter": "python",
   "pygments_lexer": "ipython3",
   "version": "3.8.5"
  }
 },
 "nbformat": 4,
 "nbformat_minor": 4
}
